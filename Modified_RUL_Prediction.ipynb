{
  "cells": [
    {
      "cell_type": "markdown",
      "id": "19a16026",
      "metadata": {
        "id": "19a16026"
      },
      "source": [
        "## Checking Tensorflow"
      ]
    },
    {
      "cell_type": "code",
      "execution_count": 95,
      "id": "94abe783",
      "metadata": {
        "colab": {
          "base_uri": "https://localhost:8080/",
          "height": 35
        },
        "id": "94abe783",
        "outputId": "3eb652c0-2253-447e-a35b-a8c4f2338c64",
        "scrolled": true
      },
      "outputs": [
        {
          "data": {
            "text/plain": [
              "'2.13.0'"
            ]
          },
          "execution_count": 95,
          "metadata": {},
          "output_type": "execute_result"
        }
      ],
      "source": [
        "import tensorflow as tf\n",
        "tf.__version__"
      ]
    },
    {
      "cell_type": "markdown",
      "id": "77d799a6",
      "metadata": {
        "id": "77d799a6"
      },
      "source": [
        "## Importing all the required Libraries"
      ]
    },
    {
      "cell_type": "code",
      "execution_count": 96,
      "id": "0936b747",
      "metadata": {
        "id": "0936b747"
      },
      "outputs": [],
      "source": [
        "import sys\n",
        "import pandas as pd\n",
        "import numpy as np\n",
        "import sklearn\n",
        "import matplotlib\n",
        "import keras\n",
        "import seaborn as sns\n",
        "import matplotlib.pyplot as plt\n",
        "from pandas.plotting import scatter_matrix"
      ]
    },
    {
      "cell_type": "markdown",
      "id": "52932195",
      "metadata": {
        "id": "52932195"
      },
      "source": [
        "## Reading the Data from the .csv File\n",
        "-----Source: Prognostics Center of Excellence at Ames Research\n",
        "Center, NASA"
      ]
    },
    {
      "cell_type": "code",
      "execution_count": 97,
      "id": "c0bbb7fc",
      "metadata": {
        "id": "c0bbb7fc"
      },
      "outputs": [],
      "source": [
        "dataset = pd.read_csv('B0005.csv')\n",
        "dataset = dataset.drop(labels=['SampleId'], axis=1)"
      ]
    },
    {
      "cell_type": "code",
      "execution_count": 98,
      "id": "ba495073",
      "metadata": {
        "colab": {
          "base_uri": "https://localhost:8080/"
        },
        "id": "ba495073",
        "outputId": "4a57f343-0353-4dce-a826-0aed778d87a1"
      },
      "outputs": [
        {
          "name": "stdout",
          "output_type": "stream",
          "text": [
            "Shape of DataFrame: (636, 6)\n",
            "Cycle                      0.000000\n",
            "Time Measured(Sec)      3690.234000\n",
            "Voltage Measured(V)        2.475768\n",
            "Current Measured          -2.009436\n",
            "Temperature Measured      39.162987\n",
            "Capacity(Ah)               2.035338\n",
            "Name: 1, dtype: float64\n"
          ]
        }
      ],
      "source": [
        "print( 'Shape of DataFrame: {}'.format(dataset.shape))\n",
        "print (dataset.loc[1])"
      ]
    },
    {
      "cell_type": "code",
      "execution_count": 99,
      "id": "4bdefff7",
      "metadata": {
        "colab": {
          "base_uri": "https://localhost:8080/",
          "height": 424
        },
        "id": "4bdefff7",
        "outputId": "40c183c3-6a0d-4678-d5c7-87b7b3188305"
      },
      "outputs": [
        {
          "data": {
            "text/html": [
              "<div>\n",
              "<style scoped>\n",
              "    .dataframe tbody tr th:only-of-type {\n",
              "        vertical-align: middle;\n",
              "    }\n",
              "\n",
              "    .dataframe tbody tr th {\n",
              "        vertical-align: top;\n",
              "    }\n",
              "\n",
              "    .dataframe thead th {\n",
              "        text-align: right;\n",
              "    }\n",
              "</style>\n",
              "<table border=\"1\" class=\"dataframe\">\n",
              "  <thead>\n",
              "    <tr style=\"text-align: right;\">\n",
              "      <th></th>\n",
              "      <th>Cycle</th>\n",
              "      <th>Time Measured(Sec)</th>\n",
              "      <th>Voltage Measured(V)</th>\n",
              "      <th>Current Measured</th>\n",
              "      <th>Temperature Measured</th>\n",
              "      <th>Capacity(Ah)</th>\n",
              "    </tr>\n",
              "  </thead>\n",
              "  <tbody>\n",
              "    <tr>\n",
              "      <th>280</th>\n",
              "      <td>70</td>\n",
              "      <td>3148.829</td>\n",
              "      <td>3.484004</td>\n",
              "      <td>-0.000984</td>\n",
              "      <td>36.466500</td>\n",
              "      <td>1.622125</td>\n",
              "    </tr>\n",
              "    <tr>\n",
              "      <th>281</th>\n",
              "      <td>70</td>\n",
              "      <td>3148.829</td>\n",
              "      <td>3.468023</td>\n",
              "      <td>-0.001288</td>\n",
              "      <td>34.587894</td>\n",
              "      <td>1.530157</td>\n",
              "    </tr>\n",
              "    <tr>\n",
              "      <th>282</th>\n",
              "      <td>70</td>\n",
              "      <td>3148.829</td>\n",
              "      <td>3.238140</td>\n",
              "      <td>-0.000266</td>\n",
              "      <td>39.408643</td>\n",
              "      <td>1.667437</td>\n",
              "    </tr>\n",
              "    <tr>\n",
              "      <th>283</th>\n",
              "      <td>70</td>\n",
              "      <td>3045.187</td>\n",
              "      <td>3.414321</td>\n",
              "      <td>0.005711</td>\n",
              "      <td>34.697069</td>\n",
              "      <td>1.533426</td>\n",
              "    </tr>\n",
              "    <tr>\n",
              "      <th>284</th>\n",
              "      <td>71</td>\n",
              "      <td>3149.094</td>\n",
              "      <td>3.508463</td>\n",
              "      <td>-0.003644</td>\n",
              "      <td>36.017069</td>\n",
              "      <td>1.611326</td>\n",
              "    </tr>\n",
              "    <tr>\n",
              "      <th>...</th>\n",
              "      <td>...</td>\n",
              "      <td>...</td>\n",
              "      <td>...</td>\n",
              "      <td>...</td>\n",
              "      <td>...</td>\n",
              "      <td>...</td>\n",
              "    </tr>\n",
              "    <tr>\n",
              "      <th>631</th>\n",
              "      <td>166</td>\n",
              "      <td>2802.016</td>\n",
              "      <td>3.693059</td>\n",
              "      <td>-0.001245</td>\n",
              "      <td>32.371097</td>\n",
              "      <td>1.174975</td>\n",
              "    </tr>\n",
              "    <tr>\n",
              "      <th>632</th>\n",
              "      <td>166</td>\n",
              "      <td>2802.016</td>\n",
              "      <td>3.372148</td>\n",
              "      <td>-0.001992</td>\n",
              "      <td>38.470677</td>\n",
              "      <td>1.421787</td>\n",
              "    </tr>\n",
              "    <tr>\n",
              "      <th>633</th>\n",
              "      <td>167</td>\n",
              "      <td>2820.390</td>\n",
              "      <td>3.589937</td>\n",
              "      <td>-0.000583</td>\n",
              "      <td>34.405920</td>\n",
              "      <td>1.325079</td>\n",
              "    </tr>\n",
              "    <tr>\n",
              "      <th>634</th>\n",
              "      <td>167</td>\n",
              "      <td>2820.390</td>\n",
              "      <td>3.691809</td>\n",
              "      <td>-0.003127</td>\n",
              "      <td>32.192324</td>\n",
              "      <td>1.185675</td>\n",
              "    </tr>\n",
              "    <tr>\n",
              "      <th>635</th>\n",
              "      <td>167</td>\n",
              "      <td>2820.390</td>\n",
              "      <td>3.383857</td>\n",
              "      <td>-0.000985</td>\n",
              "      <td>37.851602</td>\n",
              "      <td>1.432455</td>\n",
              "    </tr>\n",
              "  </tbody>\n",
              "</table>\n",
              "<p>356 rows × 6 columns</p>\n",
              "</div>"
            ],
            "text/plain": [
              "     Cycle  Time Measured(Sec)  Voltage Measured(V)  Current Measured  \\\n",
              "280     70            3148.829             3.484004         -0.000984   \n",
              "281     70            3148.829             3.468023         -0.001288   \n",
              "282     70            3148.829             3.238140         -0.000266   \n",
              "283     70            3045.187             3.414321          0.005711   \n",
              "284     71            3149.094             3.508463         -0.003644   \n",
              "..     ...                 ...                  ...               ...   \n",
              "631    166            2802.016             3.693059         -0.001245   \n",
              "632    166            2802.016             3.372148         -0.001992   \n",
              "633    167            2820.390             3.589937         -0.000583   \n",
              "634    167            2820.390             3.691809         -0.003127   \n",
              "635    167            2820.390             3.383857         -0.000985   \n",
              "\n",
              "     Temperature Measured  Capacity(Ah)  \n",
              "280             36.466500      1.622125  \n",
              "281             34.587894      1.530157  \n",
              "282             39.408643      1.667437  \n",
              "283             34.697069      1.533426  \n",
              "284             36.017069      1.611326  \n",
              "..                    ...           ...  \n",
              "631             32.371097      1.174975  \n",
              "632             38.470677      1.421787  \n",
              "633             34.405920      1.325079  \n",
              "634             32.192324      1.185675  \n",
              "635             37.851602      1.432455  \n",
              "\n",
              "[356 rows x 6 columns]"
            ]
          },
          "execution_count": 99,
          "metadata": {},
          "output_type": "execute_result"
        }
      ],
      "source": [
        "dataset.loc[280:]"
      ]
    },
    {
      "cell_type": "code",
      "execution_count": 100,
      "id": "fbcb3562",
      "metadata": {
        "colab": {
          "base_uri": "https://localhost:8080/",
          "height": 424
        },
        "id": "fbcb3562",
        "outputId": "31732cf2-21b9-45e2-a158-7d18f0450df5"
      },
      "outputs": [
        {
          "data": {
            "text/html": [
              "<div>\n",
              "<style scoped>\n",
              "    .dataframe tbody tr th:only-of-type {\n",
              "        vertical-align: middle;\n",
              "    }\n",
              "\n",
              "    .dataframe tbody tr th {\n",
              "        vertical-align: top;\n",
              "    }\n",
              "\n",
              "    .dataframe thead th {\n",
              "        text-align: right;\n",
              "    }\n",
              "</style>\n",
              "<table border=\"1\" class=\"dataframe\">\n",
              "  <thead>\n",
              "    <tr style=\"text-align: right;\">\n",
              "      <th></th>\n",
              "      <th>Cycle</th>\n",
              "      <th>Time Measured(Sec)</th>\n",
              "      <th>Voltage Measured(V)</th>\n",
              "      <th>Current Measured</th>\n",
              "      <th>Temperature Measured</th>\n",
              "      <th>Capacity(Ah)</th>\n",
              "    </tr>\n",
              "  </thead>\n",
              "  <tbody>\n",
              "    <tr>\n",
              "      <th>280</th>\n",
              "      <td>70</td>\n",
              "      <td>3148.829</td>\n",
              "      <td>3.484004</td>\n",
              "      <td>-0.000984</td>\n",
              "      <td>36.466500</td>\n",
              "      <td>1.622125</td>\n",
              "    </tr>\n",
              "    <tr>\n",
              "      <th>281</th>\n",
              "      <td>70</td>\n",
              "      <td>3148.829</td>\n",
              "      <td>3.468023</td>\n",
              "      <td>-0.001288</td>\n",
              "      <td>34.587894</td>\n",
              "      <td>1.530157</td>\n",
              "    </tr>\n",
              "    <tr>\n",
              "      <th>282</th>\n",
              "      <td>70</td>\n",
              "      <td>3148.829</td>\n",
              "      <td>3.238140</td>\n",
              "      <td>-0.000266</td>\n",
              "      <td>39.408643</td>\n",
              "      <td>1.667437</td>\n",
              "    </tr>\n",
              "    <tr>\n",
              "      <th>283</th>\n",
              "      <td>70</td>\n",
              "      <td>3045.187</td>\n",
              "      <td>3.414321</td>\n",
              "      <td>0.005711</td>\n",
              "      <td>34.697069</td>\n",
              "      <td>1.533426</td>\n",
              "    </tr>\n",
              "    <tr>\n",
              "      <th>284</th>\n",
              "      <td>71</td>\n",
              "      <td>3149.094</td>\n",
              "      <td>3.508463</td>\n",
              "      <td>-0.003644</td>\n",
              "      <td>36.017069</td>\n",
              "      <td>1.611326</td>\n",
              "    </tr>\n",
              "    <tr>\n",
              "      <th>...</th>\n",
              "      <td>...</td>\n",
              "      <td>...</td>\n",
              "      <td>...</td>\n",
              "      <td>...</td>\n",
              "      <td>...</td>\n",
              "      <td>...</td>\n",
              "    </tr>\n",
              "    <tr>\n",
              "      <th>631</th>\n",
              "      <td>166</td>\n",
              "      <td>2802.016</td>\n",
              "      <td>3.693059</td>\n",
              "      <td>-0.001245</td>\n",
              "      <td>32.371097</td>\n",
              "      <td>1.174975</td>\n",
              "    </tr>\n",
              "    <tr>\n",
              "      <th>632</th>\n",
              "      <td>166</td>\n",
              "      <td>2802.016</td>\n",
              "      <td>3.372148</td>\n",
              "      <td>-0.001992</td>\n",
              "      <td>38.470677</td>\n",
              "      <td>1.421787</td>\n",
              "    </tr>\n",
              "    <tr>\n",
              "      <th>633</th>\n",
              "      <td>167</td>\n",
              "      <td>2820.390</td>\n",
              "      <td>3.589937</td>\n",
              "      <td>-0.000583</td>\n",
              "      <td>34.405920</td>\n",
              "      <td>1.325079</td>\n",
              "    </tr>\n",
              "    <tr>\n",
              "      <th>634</th>\n",
              "      <td>167</td>\n",
              "      <td>2820.390</td>\n",
              "      <td>3.691809</td>\n",
              "      <td>-0.003127</td>\n",
              "      <td>32.192324</td>\n",
              "      <td>1.185675</td>\n",
              "    </tr>\n",
              "    <tr>\n",
              "      <th>635</th>\n",
              "      <td>167</td>\n",
              "      <td>2820.390</td>\n",
              "      <td>3.383857</td>\n",
              "      <td>-0.000985</td>\n",
              "      <td>37.851602</td>\n",
              "      <td>1.432455</td>\n",
              "    </tr>\n",
              "  </tbody>\n",
              "</table>\n",
              "<p>356 rows × 6 columns</p>\n",
              "</div>"
            ],
            "text/plain": [
              "     Cycle  Time Measured(Sec)  Voltage Measured(V)  Current Measured  \\\n",
              "280     70            3148.829             3.484004         -0.000984   \n",
              "281     70            3148.829             3.468023         -0.001288   \n",
              "282     70            3148.829             3.238140         -0.000266   \n",
              "283     70            3045.187             3.414321          0.005711   \n",
              "284     71            3149.094             3.508463         -0.003644   \n",
              "..     ...                 ...                  ...               ...   \n",
              "631    166            2802.016             3.693059         -0.001245   \n",
              "632    166            2802.016             3.372148         -0.001992   \n",
              "633    167            2820.390             3.589937         -0.000583   \n",
              "634    167            2820.390             3.691809         -0.003127   \n",
              "635    167            2820.390             3.383857         -0.000985   \n",
              "\n",
              "     Temperature Measured  Capacity(Ah)  \n",
              "280             36.466500      1.622125  \n",
              "281             34.587894      1.530157  \n",
              "282             39.408643      1.667437  \n",
              "283             34.697069      1.533426  \n",
              "284             36.017069      1.611326  \n",
              "..                    ...           ...  \n",
              "631             32.371097      1.174975  \n",
              "632             38.470677      1.421787  \n",
              "633             34.405920      1.325079  \n",
              "634             32.192324      1.185675  \n",
              "635             37.851602      1.432455  \n",
              "\n",
              "[356 rows x 6 columns]"
            ]
          },
          "execution_count": 100,
          "metadata": {},
          "output_type": "execute_result"
        }
      ],
      "source": [
        "data = dataset[~dataset.isin(['?'])]\n",
        "data.loc[280:]"
      ]
    },
    {
      "cell_type": "code",
      "execution_count": 101,
      "id": "13dea1c3",
      "metadata": {
        "colab": {
          "base_uri": "https://localhost:8080/",
          "height": 424
        },
        "id": "13dea1c3",
        "outputId": "811f760d-28f2-4fea-9ce6-d533875320d9"
      },
      "outputs": [
        {
          "data": {
            "text/html": [
              "<div>\n",
              "<style scoped>\n",
              "    .dataframe tbody tr th:only-of-type {\n",
              "        vertical-align: middle;\n",
              "    }\n",
              "\n",
              "    .dataframe tbody tr th {\n",
              "        vertical-align: top;\n",
              "    }\n",
              "\n",
              "    .dataframe thead th {\n",
              "        text-align: right;\n",
              "    }\n",
              "</style>\n",
              "<table border=\"1\" class=\"dataframe\">\n",
              "  <thead>\n",
              "    <tr style=\"text-align: right;\">\n",
              "      <th></th>\n",
              "      <th>Cycle</th>\n",
              "      <th>Time Measured(Sec)</th>\n",
              "      <th>Voltage Measured(V)</th>\n",
              "      <th>Current Measured</th>\n",
              "      <th>Temperature Measured</th>\n",
              "      <th>Capacity(Ah)</th>\n",
              "    </tr>\n",
              "  </thead>\n",
              "  <tbody>\n",
              "    <tr>\n",
              "      <th>280</th>\n",
              "      <td>70</td>\n",
              "      <td>3148.829</td>\n",
              "      <td>3.484004</td>\n",
              "      <td>-0.000984</td>\n",
              "      <td>36.466500</td>\n",
              "      <td>1.622125</td>\n",
              "    </tr>\n",
              "    <tr>\n",
              "      <th>281</th>\n",
              "      <td>70</td>\n",
              "      <td>3148.829</td>\n",
              "      <td>3.468023</td>\n",
              "      <td>-0.001288</td>\n",
              "      <td>34.587894</td>\n",
              "      <td>1.530157</td>\n",
              "    </tr>\n",
              "    <tr>\n",
              "      <th>282</th>\n",
              "      <td>70</td>\n",
              "      <td>3148.829</td>\n",
              "      <td>3.238140</td>\n",
              "      <td>-0.000266</td>\n",
              "      <td>39.408643</td>\n",
              "      <td>1.667437</td>\n",
              "    </tr>\n",
              "    <tr>\n",
              "      <th>283</th>\n",
              "      <td>70</td>\n",
              "      <td>3045.187</td>\n",
              "      <td>3.414321</td>\n",
              "      <td>0.005711</td>\n",
              "      <td>34.697069</td>\n",
              "      <td>1.533426</td>\n",
              "    </tr>\n",
              "    <tr>\n",
              "      <th>284</th>\n",
              "      <td>71</td>\n",
              "      <td>3149.094</td>\n",
              "      <td>3.508463</td>\n",
              "      <td>-0.003644</td>\n",
              "      <td>36.017069</td>\n",
              "      <td>1.611326</td>\n",
              "    </tr>\n",
              "    <tr>\n",
              "      <th>...</th>\n",
              "      <td>...</td>\n",
              "      <td>...</td>\n",
              "      <td>...</td>\n",
              "      <td>...</td>\n",
              "      <td>...</td>\n",
              "      <td>...</td>\n",
              "    </tr>\n",
              "    <tr>\n",
              "      <th>631</th>\n",
              "      <td>166</td>\n",
              "      <td>2802.016</td>\n",
              "      <td>3.693059</td>\n",
              "      <td>-0.001245</td>\n",
              "      <td>32.371097</td>\n",
              "      <td>1.174975</td>\n",
              "    </tr>\n",
              "    <tr>\n",
              "      <th>632</th>\n",
              "      <td>166</td>\n",
              "      <td>2802.016</td>\n",
              "      <td>3.372148</td>\n",
              "      <td>-0.001992</td>\n",
              "      <td>38.470677</td>\n",
              "      <td>1.421787</td>\n",
              "    </tr>\n",
              "    <tr>\n",
              "      <th>633</th>\n",
              "      <td>167</td>\n",
              "      <td>2820.390</td>\n",
              "      <td>3.589937</td>\n",
              "      <td>-0.000583</td>\n",
              "      <td>34.405920</td>\n",
              "      <td>1.325079</td>\n",
              "    </tr>\n",
              "    <tr>\n",
              "      <th>634</th>\n",
              "      <td>167</td>\n",
              "      <td>2820.390</td>\n",
              "      <td>3.691809</td>\n",
              "      <td>-0.003127</td>\n",
              "      <td>32.192324</td>\n",
              "      <td>1.185675</td>\n",
              "    </tr>\n",
              "    <tr>\n",
              "      <th>635</th>\n",
              "      <td>167</td>\n",
              "      <td>2820.390</td>\n",
              "      <td>3.383857</td>\n",
              "      <td>-0.000985</td>\n",
              "      <td>37.851602</td>\n",
              "      <td>1.432455</td>\n",
              "    </tr>\n",
              "  </tbody>\n",
              "</table>\n",
              "<p>356 rows × 6 columns</p>\n",
              "</div>"
            ],
            "text/plain": [
              "     Cycle  Time Measured(Sec)  Voltage Measured(V)  Current Measured  \\\n",
              "280     70            3148.829             3.484004         -0.000984   \n",
              "281     70            3148.829             3.468023         -0.001288   \n",
              "282     70            3148.829             3.238140         -0.000266   \n",
              "283     70            3045.187             3.414321          0.005711   \n",
              "284     71            3149.094             3.508463         -0.003644   \n",
              "..     ...                 ...                  ...               ...   \n",
              "631    166            2802.016             3.693059         -0.001245   \n",
              "632    166            2802.016             3.372148         -0.001992   \n",
              "633    167            2820.390             3.589937         -0.000583   \n",
              "634    167            2820.390             3.691809         -0.003127   \n",
              "635    167            2820.390             3.383857         -0.000985   \n",
              "\n",
              "     Temperature Measured  Capacity(Ah)  \n",
              "280             36.466500      1.622125  \n",
              "281             34.587894      1.530157  \n",
              "282             39.408643      1.667437  \n",
              "283             34.697069      1.533426  \n",
              "284             36.017069      1.611326  \n",
              "..                    ...           ...  \n",
              "631             32.371097      1.174975  \n",
              "632             38.470677      1.421787  \n",
              "633             34.405920      1.325079  \n",
              "634             32.192324      1.185675  \n",
              "635             37.851602      1.432455  \n",
              "\n",
              "[356 rows x 6 columns]"
            ]
          },
          "execution_count": 101,
          "metadata": {},
          "output_type": "execute_result"
        }
      ],
      "source": [
        "data = data.dropna(axis=0)\n",
        "data.loc[280:]"
      ]
    },
    {
      "cell_type": "code",
      "execution_count": 102,
      "id": "621d2ab7",
      "metadata": {
        "colab": {
          "base_uri": "https://localhost:8080/"
        },
        "id": "621d2ab7",
        "outputId": "f2bd3ceb-870b-4876-a24a-4dda842c0f15"
      },
      "outputs": [
        {
          "name": "stdout",
          "output_type": "stream",
          "text": [
            "(636, 6)\n",
            "Cycle                     int64\n",
            "Time Measured(Sec)      float64\n",
            "Voltage Measured(V)     float64\n",
            "Current Measured        float64\n",
            "Temperature Measured    float64\n",
            "Capacity(Ah)            float64\n",
            "dtype: object\n"
          ]
        }
      ],
      "source": [
        "print(data.shape)\n",
        "print(data.dtypes)"
      ]
    },
    {
      "cell_type": "code",
      "execution_count": 103,
      "id": "39d50674",
      "metadata": {
        "colab": {
          "base_uri": "https://localhost:8080/"
        },
        "id": "39d50674",
        "outputId": "ff07b7e3-5aee-445d-bb7a-ddd9ca5d3335"
      },
      "outputs": [
        {
          "data": {
            "text/plain": [
              "(636, 6)"
            ]
          },
          "execution_count": 103,
          "metadata": {},
          "output_type": "execute_result"
        }
      ],
      "source": [
        "data.keys()\n",
        "data.shape"
      ]
    },
    {
      "cell_type": "code",
      "execution_count": 104,
      "id": "67213739",
      "metadata": {
        "colab": {
          "base_uri": "https://localhost:8080/"
        },
        "id": "67213739",
        "outputId": "ad763d3f-7a82-4a65-d7d8-a138c47954fe"
      },
      "outputs": [
        {
          "data": {
            "text/plain": [
              "Cycle                     int64\n",
              "Time Measured(Sec)      float64\n",
              "Voltage Measured(V)     float64\n",
              "Current Measured        float64\n",
              "Temperature Measured    float64\n",
              "Capacity(Ah)            float64\n",
              "dtype: object"
            ]
          },
          "execution_count": 104,
          "metadata": {},
          "output_type": "execute_result"
        }
      ],
      "source": [
        "data = data.apply(pd.to_numeric)\n",
        "data.dtypes"
      ]
    },
    {
      "cell_type": "code",
      "execution_count": 105,
      "id": "1032dee4",
      "metadata": {
        "colab": {
          "base_uri": "https://localhost:8080/",
          "height": 300
        },
        "id": "1032dee4",
        "outputId": "ca97eda0-9d80-4a82-d9e8-3681bf05d71a"
      },
      "outputs": [
        {
          "data": {
            "text/html": [
              "<div>\n",
              "<style scoped>\n",
              "    .dataframe tbody tr th:only-of-type {\n",
              "        vertical-align: middle;\n",
              "    }\n",
              "\n",
              "    .dataframe tbody tr th {\n",
              "        vertical-align: top;\n",
              "    }\n",
              "\n",
              "    .dataframe thead th {\n",
              "        text-align: right;\n",
              "    }\n",
              "</style>\n",
              "<table border=\"1\" class=\"dataframe\">\n",
              "  <thead>\n",
              "    <tr style=\"text-align: right;\">\n",
              "      <th></th>\n",
              "      <th>Cycle</th>\n",
              "      <th>Time Measured(Sec)</th>\n",
              "      <th>Voltage Measured(V)</th>\n",
              "      <th>Current Measured</th>\n",
              "      <th>Temperature Measured</th>\n",
              "      <th>Capacity(Ah)</th>\n",
              "    </tr>\n",
              "  </thead>\n",
              "  <tbody>\n",
              "    <tr>\n",
              "      <th>count</th>\n",
              "      <td>636.000000</td>\n",
              "      <td>636.000000</td>\n",
              "      <td>636.000000</td>\n",
              "      <td>636.000000</td>\n",
              "      <td>636.000000</td>\n",
              "      <td>636.000000</td>\n",
              "    </tr>\n",
              "    <tr>\n",
              "      <th>mean</th>\n",
              "      <td>79.764151</td>\n",
              "      <td>3116.977701</td>\n",
              "      <td>3.297086</td>\n",
              "      <td>-0.171153</td>\n",
              "      <td>36.318064</td>\n",
              "      <td>1.581652</td>\n",
              "    </tr>\n",
              "    <tr>\n",
              "      <th>std</th>\n",
              "      <td>47.137103</td>\n",
              "      <td>242.197224</td>\n",
              "      <td>0.382406</td>\n",
              "      <td>0.556974</td>\n",
              "      <td>2.090171</td>\n",
              "      <td>0.198765</td>\n",
              "    </tr>\n",
              "    <tr>\n",
              "      <th>min</th>\n",
              "      <td>0.000000</td>\n",
              "      <td>2742.843000</td>\n",
              "      <td>1.813269</td>\n",
              "      <td>-2.012015</td>\n",
              "      <td>32.113473</td>\n",
              "      <td>1.153818</td>\n",
              "    </tr>\n",
              "    <tr>\n",
              "      <th>25%</th>\n",
              "      <td>39.000000</td>\n",
              "      <td>2891.996250</td>\n",
              "      <td>3.260587</td>\n",
              "      <td>-0.003576</td>\n",
              "      <td>34.639503</td>\n",
              "      <td>1.421123</td>\n",
              "    </tr>\n",
              "    <tr>\n",
              "      <th>50%</th>\n",
              "      <td>79.000000</td>\n",
              "      <td>3084.281000</td>\n",
              "      <td>3.397571</td>\n",
              "      <td>-0.001903</td>\n",
              "      <td>35.808964</td>\n",
              "      <td>1.559695</td>\n",
              "    </tr>\n",
              "    <tr>\n",
              "      <th>75%</th>\n",
              "      <td>119.000000</td>\n",
              "      <td>3311.828000</td>\n",
              "      <td>3.529257</td>\n",
              "      <td>-0.000338</td>\n",
              "      <td>38.447301</td>\n",
              "      <td>1.763486</td>\n",
              "    </tr>\n",
              "    <tr>\n",
              "      <th>max</th>\n",
              "      <td>167.000000</td>\n",
              "      <td>3690.234000</td>\n",
              "      <td>3.697170</td>\n",
              "      <td>0.009113</td>\n",
              "      <td>41.049942</td>\n",
              "      <td>2.035338</td>\n",
              "    </tr>\n",
              "  </tbody>\n",
              "</table>\n",
              "</div>"
            ],
            "text/plain": [
              "            Cycle  Time Measured(Sec)  Voltage Measured(V)  Current Measured  \\\n",
              "count  636.000000          636.000000           636.000000        636.000000   \n",
              "mean    79.764151         3116.977701             3.297086         -0.171153   \n",
              "std     47.137103          242.197224             0.382406          0.556974   \n",
              "min      0.000000         2742.843000             1.813269         -2.012015   \n",
              "25%     39.000000         2891.996250             3.260587         -0.003576   \n",
              "50%     79.000000         3084.281000             3.397571         -0.001903   \n",
              "75%    119.000000         3311.828000             3.529257         -0.000338   \n",
              "max    167.000000         3690.234000             3.697170          0.009113   \n",
              "\n",
              "       Temperature Measured  Capacity(Ah)  \n",
              "count            636.000000    636.000000  \n",
              "mean              36.318064      1.581652  \n",
              "std                2.090171      0.198765  \n",
              "min               32.113473      1.153818  \n",
              "25%               34.639503      1.421123  \n",
              "50%               35.808964      1.559695  \n",
              "75%               38.447301      1.763486  \n",
              "max               41.049942      2.035338  "
            ]
          },
          "execution_count": 105,
          "metadata": {},
          "output_type": "execute_result"
        }
      ],
      "source": [
        "data.describe()"
      ]
    },
    {
      "cell_type": "code",
      "execution_count": 106,
      "id": "7c21138b",
      "metadata": {
        "colab": {
          "base_uri": "https://localhost:8080/",
          "height": 1000
        },
        "id": "7c21138b",
        "outputId": "86a74d0b-cfa1-4a8a-be30-e2aee41582b7"
      },
      "outputs": [
        {
          "data": {
            "image/png": "[encoded data removed]",
            "text/plain": [
              "<Figure size 1200x1200 with 6 Axes>"
            ]
          },
          "metadata": {},
          "output_type": "display_data"
        }
      ],
      "source": [
        "data.hist(figsize = (12, 12), color=\"green\")\n",
        "plt.show()"
      ]
    },
    {
      "cell_type": "code",
      "execution_count": 107,
      "id": "ab432fe4",
      "metadata": {
        "id": "ab432fe4"
      },
      "outputs": [],
      "source": [
        "# features=[\"Voltage Measured(V)\",\"Current Measured\",\"Capacity(Ah)\",\"Temperature Measured\"]\n",
        "\n",
        "features = [\"Voltage Measured(V)\", \"Current Measured\", \"Temperature Measured\"]  \n",
        "target = \"Capacity(Ah)\""
      ]
    },
    {
      "cell_type": "code",
      "execution_count": 108,
      "id": "9388bb6f",
      "metadata": {
        "id": "9388bb6f"
      },
      "outputs": [],
      "source": [
        "# X = np.array(data.iloc[:,0:5].values)\n",
        "# y = np.array(data.iloc[:,5].values)\n",
        "\n",
        "X = data[features].values\n",
        "y = data[target].values"
      ]
    },
    {
      "cell_type": "code",
      "execution_count": 109,
      "id": "3b9d8436",
      "metadata": {
        "colab": {
          "base_uri": "https://localhost:8080/"
        },
        "id": "3b9d8436",
        "outputId": "d66b5c87-0355-4fc7-bc69-cb7a154b7844"
      },
      "outputs": [
        {
          "name": "stdout",
          "output_type": "stream",
          "text": [
            "[[ 3.27716998e+00 -6.52835100e-03  3.42308528e+01]\n",
            " [ 2.47576776e+00 -2.00943589e+00  3.91629865e+01]\n",
            " [ 3.06211271e+00 -1.43329900e-03  3.73384785e+01]\n",
            " ...\n",
            " [ 3.58993739e+00 -5.83347000e-04  3.44059205e+01]\n",
            " [ 3.69180898e+00 -3.12712900e-03  3.21923241e+01]\n",
            " [ 3.38385665e+00 -9.84538000e-04  3.78516025e+01]]\n"
          ]
        }
      ],
      "source": [
        "print(X)"
      ]
    },
    {
      "cell_type": "code",
      "execution_count": 110,
      "id": "c339ae12",
      "metadata": {
        "id": "c339ae12"
      },
      "outputs": [],
      "source": [
        "mean = X.mean(axis=0)\n",
        "X -= mean\n",
        "std = X.std(axis=0)\n",
        "X /= std"
      ]
    },
    {
      "cell_type": "code",
      "execution_count": 111,
      "id": "bffb97c4",
      "metadata": {
        "colab": {
          "base_uri": "https://localhost:8080/"
        },
        "id": "bffb97c4",
        "outputId": "5491a49a-0678-4e76-b542-979b5cae1e9a"
      },
      "outputs": [
        {
          "data": {
            "text/plain": [
              "(array([ 3.29708625, -0.1711533 , 36.31806448]),\n",
              " array([0.38210518, 0.55653546, 2.08852755]))"
            ]
          },
          "execution_count": 111,
          "metadata": {},
          "output_type": "execute_result"
        }
      ],
      "source": [
        "mean, std"
      ]
    },
    {
      "cell_type": "code",
      "execution_count": 112,
      "id": "062890f3",
      "metadata": {
        "id": "062890f3"
      },
      "outputs": [],
      "source": [
        "from sklearn import model_selection\n",
        "\n",
        "X_train, X_test, y_train, y_test = model_selection.train_test_split(X, y, random_state=42, test_size = 0.3)"
      ]
    },
    {
      "cell_type": "code",
      "execution_count": 113,
      "id": "6a3b83d5",
      "metadata": {
        "colab": {
          "base_uri": "https://localhost:8080/"
        },
        "id": "6a3b83d5",
        "outputId": "a2bbb0a0-d63b-418d-c673-de18c087b9d1"
      },
      "outputs": [
        {
          "data": {
            "text/plain": [
              "(191, 3)"
            ]
          },
          "execution_count": 113,
          "metadata": {},
          "output_type": "execute_result"
        }
      ],
      "source": [
        "X_test.shape"
      ]
    },
    {
      "cell_type": "code",
      "execution_count": 114,
      "id": "c3dad71a",
      "metadata": {
        "colab": {
          "base_uri": "https://localhost:8080/"
        },
        "id": "c3dad71a",
        "outputId": "6618ba98-92da-4cd5-8e5f-f8854cde8540"
      },
      "outputs": [
        {
          "name": "stdout",
          "output_type": "stream",
          "text": [
            "(445, 3)\n",
            "[[0. 1. 0.]\n",
            " [0. 1. 0.]\n",
            " [0. 1. 0.]\n",
            " [0. 1. 0.]\n",
            " [0. 1. 0.]\n",
            " [0. 1. 0.]\n",
            " [0. 1. 0.]\n",
            " [0. 1. 0.]\n",
            " [0. 1. 0.]\n",
            " [0. 1. 0.]]\n"
          ]
        }
      ],
      "source": [
        "# from keras.utils.np_utils import to_categorical\n",
        "from tensorflow.keras.utils import to_categorical\n",
        "\n",
        "Y_train = to_categorical(y_train, num_classes=None)\n",
        "Y_test = to_categorical(y_test, num_classes=None)\n",
        "print (Y_train.shape)\n",
        "print (Y_train[:10])"
      ]
    },
    {
      "cell_type": "code",
      "execution_count": 115,
      "id": "9e71e87e",
      "metadata": {
        "colab": {
          "base_uri": "https://localhost:8080/"
        },
        "id": "9e71e87e",
        "outputId": "e6bf5ee1-b6f7-4a3b-af1e-1419e497eceb"
      },
      "outputs": [
        {
          "data": {
            "text/plain": [
              "array([0.0497592 , 0.30729039, 1.381131  ])"
            ]
          },
          "execution_count": 115,
          "metadata": {},
          "output_type": "execute_result"
        }
      ],
      "source": [
        "X_train[0]"
      ]
    },
    {
      "cell_type": "code",
      "execution_count": 116,
      "id": "d352c8f7",
      "metadata": {
        "colab": {
          "base_uri": "https://localhost:8080/"
        },
        "id": "d352c8f7",
        "outputId": "b7633c4a-2937-4136-af01-165cf21bcd46"
      },
      "outputs": [
        {
          "name": "stderr",
          "output_type": "stream",
          "text": [
            "WARNING:absl:`lr` is deprecated in Keras optimizer, please use `learning_rate` or use the legacy optimizer, e.g.,tf.keras.optimizers.legacy.Adam.\n"
          ]
        },
        {
          "name": "stdout",
          "output_type": "stream",
          "text": [
            "Model: \"sequential_2\"\n",
            "_________________________________________________________________\n",
            " Layer (type)                Output Shape              Param #   \n",
            "=================================================================\n",
            " dense_6 (Dense)             (None, 10)                60        \n",
            "                                                                 \n",
            " dropout_4 (Dropout)         (None, 10)                0         \n",
            "                                                                 \n",
            " dense_7 (Dense)             (None, 7)                 77        \n",
            "                                                                 \n",
            " dropout_5 (Dropout)         (None, 7)                 0         \n",
            "                                                                 \n",
            " dense_8 (Dense)             (None, 3)                 24        \n",
            "                                                                 \n",
            "=================================================================\n",
            "Total params: 161 (644.00 Byte)\n",
            "Trainable params: 161 (644.00 Byte)\n",
            "Non-trainable params: 0 (0.00 Byte)\n",
            "_________________________________________________________________\n",
            "None\n"
          ]
        }
      ],
      "source": [
        "from keras.models import Sequential\n",
        "from keras.layers import Dense\n",
        "from tensorflow.keras.optimizers import Adam \n",
        "from keras.layers import Dropout\n",
        "from keras import regularizers\n",
        "\n",
        "# define a function to build the keras model\n",
        "def create_model():\n",
        "    model = Sequential()\n",
        "    model.add(Dense(10, input_dim=5, kernel_initializer='uniform', activation='tanh'))\n",
        "    model.add(Dropout(0.15))\n",
        "    model.add(Dense(7, kernel_initializer='uniform', activation='relu'))\n",
        "    model.add(Dropout(0.15))\n",
        "    model.add(Dense(3,kernel_initializer='uniform', activation='sigmoid'))\n",
        "    model.compile(loss='mean_squared_error', optimizer=keras.optimizers.Adam(lr=0.001), metrics=['mean_absolute_error','accuracy'])\n",
        "    return model\n",
        "\n",
        "model = create_model()\n",
        "\n",
        "print(model.summary())"
      ]
    },
    {
      "cell_type": "code",
      "execution_count": 117,
      "id": "877bb3ba",
      "metadata": {
        "colab": {
          "base_uri": "https://localhost:8080/"
        },
        "id": "877bb3ba",
        "outputId": "b231f0b5-b8ee-4772-f10b-b8500b14eb20"
      },
      "outputs": [
        {
          "name": "stdout",
          "output_type": "stream",
          "text": [
            "Epoch 1/10\n"
          ]
        },
        {
          "ename": "ValueError",
          "evalue": "in user code:\n\n    File \"d:\\New folder\\Volume D\\Program Files\\desktop\\RUL-Estimation_of_Li-Ion_Batteries\\pyenv\\lib\\site-packages\\keras\\src\\engine\\training.py\", line 1338, in train_function  *\n        return step_function(self, iterator)\n    File \"d:\\New folder\\Volume D\\Program Files\\desktop\\RUL-Estimation_of_Li-Ion_Batteries\\pyenv\\lib\\site-packages\\keras\\src\\engine\\training.py\", line 1322, in step_function  **\n        outputs = model.distribute_strategy.run(run_step, args=(data,))\n    File \"d:\\New folder\\Volume D\\Program Files\\desktop\\RUL-Estimation_of_Li-Ion_Batteries\\pyenv\\lib\\site-packages\\keras\\src\\engine\\training.py\", line 1303, in run_step  **\n        outputs = model.train_step(data)\n    File \"d:\\New folder\\Volume D\\Program Files\\desktop\\RUL-Estimation_of_Li-Ion_Batteries\\pyenv\\lib\\site-packages\\keras\\src\\engine\\training.py\", line 1080, in train_step\n        y_pred = self(x, training=True)\n    File \"d:\\New folder\\Volume D\\Program Files\\desktop\\RUL-Estimation_of_Li-Ion_Batteries\\pyenv\\lib\\site-packages\\keras\\src\\utils\\traceback_utils.py\", line 70, in error_handler\n        raise e.with_traceback(filtered_tb) from None\n    File \"d:\\New folder\\Volume D\\Program Files\\desktop\\RUL-Estimation_of_Li-Ion_Batteries\\pyenv\\lib\\site-packages\\keras\\src\\engine\\input_spec.py\", line 298, in assert_input_compatibility\n        raise ValueError(\n\n    ValueError: Input 0 of layer \"sequential_2\" is incompatible with the layer: expected shape=(None, 5), found shape=(1, 3)\n",
          "output_type": "error",
          "traceback": [
            "\u001b[1;31m---------------------------------------------------------------------------\u001b[0m",
            "\u001b[1;31mValueError\u001b[0m                                Traceback (most recent call last)",
            "Cell \u001b[1;32mIn[117], line 1\u001b[0m\n\u001b[1;32m----> 1\u001b[0m history\u001b[38;5;241m=\u001b[39m\u001b[43mmodel\u001b[49m\u001b[38;5;241;43m.\u001b[39;49m\u001b[43mfit\u001b[49m\u001b[43m(\u001b[49m\u001b[43mX_train\u001b[49m\u001b[43m,\u001b[49m\u001b[43m \u001b[49m\u001b[43mY_train\u001b[49m\u001b[43m,\u001b[49m\u001b[43m \u001b[49m\u001b[43mvalidation_data\u001b[49m\u001b[38;5;241;43m=\u001b[39;49m\u001b[43m(\u001b[49m\u001b[43mX_test\u001b[49m\u001b[43m,\u001b[49m\u001b[43m \u001b[49m\u001b[43mY_test\u001b[49m\u001b[43m)\u001b[49m\u001b[43m,\u001b[49m\u001b[43mepochs\u001b[49m\u001b[38;5;241;43m=\u001b[39;49m\u001b[38;5;241;43m10\u001b[39;49m\u001b[43m,\u001b[49m\u001b[43m \u001b[49m\u001b[43mbatch_size\u001b[49m\u001b[38;5;241;43m=\u001b[39;49m\u001b[38;5;241;43m1\u001b[39;49m\u001b[43m)\u001b[49m\n",
            "File \u001b[1;32md:\\New folder\\Volume D\\Program Files\\desktop\\RUL-Estimation_of_Li-Ion_Batteries\\pyenv\\lib\\site-packages\\keras\\src\\utils\\traceback_utils.py:70\u001b[0m, in \u001b[0;36mfilter_traceback.<locals>.error_handler\u001b[1;34m(*args, **kwargs)\u001b[0m\n\u001b[0;32m     67\u001b[0m     filtered_tb \u001b[38;5;241m=\u001b[39m _process_traceback_frames(e\u001b[38;5;241m.\u001b[39m__traceback__)\n\u001b[0;32m     68\u001b[0m     \u001b[38;5;66;03m# To get the full stack trace, call:\u001b[39;00m\n\u001b[0;32m     69\u001b[0m     \u001b[38;5;66;03m# `tf.debugging.disable_traceback_filtering()`\u001b[39;00m\n\u001b[1;32m---> 70\u001b[0m     \u001b[38;5;28;01mraise\u001b[39;00m e\u001b[38;5;241m.\u001b[39mwith_traceback(filtered_tb) \u001b[38;5;28;01mfrom\u001b[39;00m \u001b[38;5;28;01mNone\u001b[39;00m\n\u001b[0;32m     71\u001b[0m \u001b[38;5;28;01mfinally\u001b[39;00m:\n\u001b[0;32m     72\u001b[0m     \u001b[38;5;28;01mdel\u001b[39;00m filtered_tb\n",
            "File \u001b[1;32mC:\\Users\\HP12D5~1\\AppData\\Local\\Temp\\__autograph_generated_filer09hkzw1.py:15\u001b[0m, in \u001b[0;36mouter_factory.<locals>.inner_factory.<locals>.tf__train_function\u001b[1;34m(iterator)\u001b[0m\n\u001b[0;32m     13\u001b[0m \u001b[38;5;28;01mtry\u001b[39;00m:\n\u001b[0;32m     14\u001b[0m     do_return \u001b[38;5;241m=\u001b[39m \u001b[38;5;28;01mTrue\u001b[39;00m\n\u001b[1;32m---> 15\u001b[0m     retval_ \u001b[38;5;241m=\u001b[39m ag__\u001b[38;5;241m.\u001b[39mconverted_call(ag__\u001b[38;5;241m.\u001b[39mld(step_function), (ag__\u001b[38;5;241m.\u001b[39mld(\u001b[38;5;28mself\u001b[39m), ag__\u001b[38;5;241m.\u001b[39mld(iterator)), \u001b[38;5;28;01mNone\u001b[39;00m, fscope)\n\u001b[0;32m     16\u001b[0m \u001b[38;5;28;01mexcept\u001b[39;00m:\n\u001b[0;32m     17\u001b[0m     do_return \u001b[38;5;241m=\u001b[39m \u001b[38;5;28;01mFalse\u001b[39;00m\n",
            "\u001b[1;31mValueError\u001b[0m: in user code:\n\n    File \"d:\\New folder\\Volume D\\Program Files\\desktop\\RUL-Estimation_of_Li-Ion_Batteries\\pyenv\\lib\\site-packages\\keras\\src\\engine\\training.py\", line 1338, in train_function  *\n        return step_function(self, iterator)\n    File \"d:\\New folder\\Volume D\\Program Files\\desktop\\RUL-Estimation_of_Li-Ion_Batteries\\pyenv\\lib\\site-packages\\keras\\src\\engine\\training.py\", line 1322, in step_function  **\n        outputs = model.distribute_strategy.run(run_step, args=(data,))\n    File \"d:\\New folder\\Volume D\\Program Files\\desktop\\RUL-Estimation_of_Li-Ion_Batteries\\pyenv\\lib\\site-packages\\keras\\src\\engine\\training.py\", line 1303, in run_step  **\n        outputs = model.train_step(data)\n    File \"d:\\New folder\\Volume D\\Program Files\\desktop\\RUL-Estimation_of_Li-Ion_Batteries\\pyenv\\lib\\site-packages\\keras\\src\\engine\\training.py\", line 1080, in train_step\n        y_pred = self(x, training=True)\n    File \"d:\\New folder\\Volume D\\Program Files\\desktop\\RUL-Estimation_of_Li-Ion_Batteries\\pyenv\\lib\\site-packages\\keras\\src\\utils\\traceback_utils.py\", line 70, in error_handler\n        raise e.with_traceback(filtered_tb) from None\n    File \"d:\\New folder\\Volume D\\Program Files\\desktop\\RUL-Estimation_of_Li-Ion_Batteries\\pyenv\\lib\\site-packages\\keras\\src\\engine\\input_spec.py\", line 298, in assert_input_compatibility\n        raise ValueError(\n\n    ValueError: Input 0 of layer \"sequential_2\" is incompatible with the layer: expected shape=(None, 5), found shape=(1, 3)\n"
          ]
        }
      ],
      "source": [
        "history=model.fit(X_train, Y_train, validation_data=(X_test, Y_test),epochs=10, batch_size=1)"
      ]
    },
    {
      "cell_type": "code",
      "execution_count": null,
      "id": "6wTZQhJ3lhG3",
      "metadata": {
        "colab": {
          "base_uri": "https://localhost:8080/",
          "height": 644
        },
        "id": "6wTZQhJ3lhG3",
        "outputId": "51e99d23-6c37-4159-8e41-b4f78230be5c"
      },
      "outputs": [
        {
          "name": "stdout",
          "output_type": "stream",
          "text": [
            "You must install pydot (`pip install pydot`) and install graphviz (see instructions at https://graphviz.gitlab.io/download/) for plot_model to work.\n"
          ]
        }
      ],
      "source": [
        "# from keras.utils.vis_utils import plot_model\n",
        "from tensorflow.keras.utils import plot_model\n",
        "plot_model(model, to_file='model_plot.png', show_shapes=True, show_layer_names=True)"
      ]
    },
    {
      "cell_type": "code",
      "execution_count": null,
      "id": "7dd0cfff",
      "metadata": {
        "colab": {
          "base_uri": "https://localhost:8080/"
        },
        "id": "7dd0cfff",
        "outputId": "96b60831-79d0-402c-a439-da6f8b0a5d8b"
      },
      "outputs": [
        {
          "name": "stderr",
          "output_type": "stream",
          "text": [
            "d:\\New folder\\Volume D\\Program Files\\desktop\\RUL-Estimation_of_Li-Ion_Batteries\\pyenv\\lib\\site-packages\\keras\\src\\engine\\training.py:3000: UserWarning: You are saving your model as an HDF5 file via `model.save()`. This file format is considered legacy. We recommend using instead the native Keras format, e.g. `model.save('my_model.keras')`.\n",
            "  saving_api.save_model(\n"
          ]
        }
      ],
      "source": [
        "model.save(\"Parimal.h5\")"
      ]
    },
    {
      "cell_type": "code",
      "execution_count": null,
      "id": "9d9280ee",
      "metadata": {
        "colab": {
          "base_uri": "https://localhost:8080/",
          "height": 472
        },
        "id": "9d9280ee",
        "outputId": "3624cb63-e0d7-43b7-f6eb-f95506d6cada"
      },
      "outputs": [],
      "source": [
        "# plt.plot(history.history['mean_absolute_error'])\n",
        "# plt.plot(history.history['val_mean_absolute_error'])\n",
        "# plt.title('MAE')\n",
        "# plt.ylabel('mae')\n",
        "# plt.xlabel('epoch')\n",
        "# plt.legend(['train', 'validation'], loc='upper right')\n",
        "# plt.show()"
      ]
    },
    {
      "cell_type": "code",
      "execution_count": null,
      "id": "c84a42b0",
      "metadata": {
        "colab": {
          "base_uri": "https://localhost:8080/",
          "height": 472
        },
        "id": "c84a42b0",
        "outputId": "bd715d5f-305c-4740-b518-994d2aaa5556"
      },
      "outputs": [],
      "source": [
        "# import matplotlib.pyplot as plt\n",
        "# %matplotlib inline\n",
        "# # Model accuracy\n",
        "# plt.plot(history.history['accuracy'])\n",
        "# plt.plot(history.history['val_accuracy'])\n",
        "# plt.title('Model Accuracy')\n",
        "# plt.ylabel('accuracy')\n",
        "# plt.xlabel('epoch')\n",
        "# plt.legend(['train', 'test'])\n",
        "# plt.show()"
      ]
    },
    {
      "cell_type": "code",
      "execution_count": null,
      "id": "c5a6c576",
      "metadata": {
        "colab": {
          "base_uri": "https://localhost:8080/",
          "height": 472
        },
        "id": "c5a6c576",
        "outputId": "300285ca-403a-4899-cf9d-3fa38c93d79f"
      },
      "outputs": [],
      "source": [
        "# plt.plot(history.history['loss'])\n",
        "# plt.plot(history.history['val_loss'])\n",
        "# plt.title('Model Loss')\n",
        "# plt.ylabel('loss')\n",
        "# plt.xlabel('epoch')\n",
        "# plt.legend(['train', 'test'])\n",
        "# plt.show()"
      ]
    },
    {
      "cell_type": "code",
      "execution_count": null,
      "id": "40782075",
      "metadata": {
        "colab": {
          "base_uri": "https://localhost:8080/",
          "height": 736
        },
        "id": "40782075",
        "outputId": "695b593e-b459-40aa-fc4e-547601a7c300"
      },
      "outputs": [],
      "source": [
        "# %matplotlib inline\n",
        "# import matplotlib.pyplot as plt\n",
        "# import seaborn as sns\n",
        "# plot_df = data.loc[(data['Cycle']>=1),['Cycle','Capacity(Ah)']]\n",
        "# sns.set_style(\"darkgrid\")\n",
        "# plt.figure(figsize=(12, 8))\n",
        "# plt.plot(plot_df['Cycle'], plot_df['Capacity(Ah)'],color=\"green\")\n",
        "# #Draw threshold\n",
        "# plt.plot([0.,len(data)], [1.4, 1.4])\n",
        "# plt.ylabel('Capacity(Ah)')\n",
        "# # make x-axis ticks legible\n",
        "# adf = plt.gca().get_xaxis().get_major_formatter()\n",
        "# plt.xlabel('Cycle')\n",
        "# plt.title('RUL Prediction')"
      ]
    },
    {
      "cell_type": "code",
      "execution_count": null,
      "id": "287eb5be",
      "metadata": {
        "colab": {
          "base_uri": "https://localhost:8080/",
          "height": 939
        },
        "id": "287eb5be",
        "outputId": "6f4959ec-cd88-4959-babb-ff52cd2741a2"
      },
      "outputs": [],
      "source": [
        "# capacity = np.array(data.iloc[:,5].values)\n",
        "# cycle = np.array(data.iloc[:,0].values)\n",
        "# normalizedCycle = (cycle-min(cycle))/(max(cycle)-min(cycle))\n",
        "# normalizedCapacity = (capacity-min(capacity)) / (max(capacity) - min(capacity))\n",
        "# plt.plot(normalizedCapacity, color=\"green\")\n",
        "# plt.plot(normalizedCycle, color=\"green\")\n",
        "# plt.title('RUL Prediction')\n",
        "# plt.ylabel('Capacity')\n",
        "# plt.xlabel('Cycle')\n",
        "# plt.show()\n",
        "# plt.hist(normalizedCapacity, bins=10)\n",
        "# plt.hist(normalizedCycle, bins=10)\n"
      ]
    },
    {
      "cell_type": "code",
      "execution_count": null,
      "id": "b2533eca",
      "metadata": {
        "colab": {
          "base_uri": "https://localhost:8080/",
          "height": 507
        },
        "id": "b2533eca",
        "outputId": "97452424-8a38-4838-930b-83d018e37570"
      },
      "outputs": [],
      "source": [
        "# import numpy as np\n",
        "# import matplotlib.pyplot as plt\n",
        "# %matplotlib inline\n",
        "\n",
        "# fig, ax1 = plt.subplots()\n",
        "# sns.set_style(\"white\")\n",
        "# plot_df= data.loc[(data['Cycle']==1),['Temperature Measured','Current Measured']]\n",
        "# #plt.plot([126, 127], color=\"black\")\n",
        "# plot_df1 = data.loc[(data['Cycle']==1),['Temperature Measured','Voltage Measured(V)']]\n",
        "\n",
        "# color = 'tab:red'\n",
        "# ax1.set_xlabel('Temperature Measured')\n",
        "# ax1.set_ylabel('Voltage Measured(V)', color=color)\n",
        "# ax1.plot(data['Time Measured(Sec)']/60, data['Voltage Measured(V)'], color=color)\n",
        "# ax1.tick_params(axis='y', labelcolor=color)\n",
        "\n",
        "# ax2 = ax1.twinx()  # instantiate a second axes that shares the same x-axis\n",
        "\n",
        "# color = 'tab:blue'\n",
        "# ax2.set_ylabel('Current Measured', color=color)  # we already handled the x-label with ax1\n",
        "# ax2.plot(data['Time Measured(Sec)']/60, data['Current Measured'],'-', color=color)\n",
        "# ax2.tick_params(axis='y', labelcolor=color)\n",
        "# fig.set_size_inches(10, 5)\n",
        "# fig.tight_layout()  # otherwise the right y-label is slightly clipped\n",
        "# plt.show()\n",
        "# # vertical black line split the graph between charge and discharge operation."
      ]
    },
    {
      "cell_type": "code",
      "execution_count": null,
      "id": "f802f049",
      "metadata": {
        "id": "f802f049"
      },
      "outputs": [],
      "source": [
        "from tensorflow.keras.models import load_model\n",
        "\n",
        "modelP = load_model(\"Parimal.h5\")\n",
        "\n"
      ]
    },
    {
      "cell_type": "code",
      "execution_count": null,
      "id": "dcd09614",
      "metadata": {
        "id": "dcd09614"
      },
      "outputs": [],
      "source": []
    }
  ],
  "metadata": {
    "colab": {
      "provenance": []
    },
    "kernelspec": {
      "display_name": "parimal",
      "language": "python",
      "name": "python3"
    },
    "language_info": {
      "codemirror_mode": {
        "name": "ipython",
        "version": 3
      },
      "file_extension": ".py",
      "mimetype": "text/x-python",
      "name": "python",
      "nbconvert_exporter": "python",
      "pygments_lexer": "ipython3",
      "version": "3.8.10"
    }
  },
  "nbformat": 4,
  "nbformat_minor": 5
}
